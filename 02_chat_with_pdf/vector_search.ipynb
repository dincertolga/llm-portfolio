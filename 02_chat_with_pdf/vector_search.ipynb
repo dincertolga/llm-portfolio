{
 "cells": [
  {
   "cell_type": "markdown",
   "metadata": {},
   "source": [
    "### Similarity metrics\n",
    "Similarity metrics are used to compute the similarity of two vectors. When you create a collection, you can choose one of three metric types:\n",
    "\n",
    "- Cosine similarity (default)\n",
    "\n",
    "- Dot product\n",
    "\n",
    "- Euclidean distance"
   ]
  },
  {
   "cell_type": "markdown",
   "metadata": {},
   "source": [
    "### Vector search\n",
    "At its core, a vector database is about efficient vector search, which allows you to find similar content. Here’s how vector search works:\n",
    "\n",
    " - Create a collection of embeddings for some content.\n",
    "\n",
    " - Pick a new piece of content.\n",
    "\n",
    " - Generate an embedding for that piece of content.\n",
    "\n",
    " - Run a similarity search on the collection.\n",
    "\n",
    "You’ll get a list of the content in your collection with embeddings that are most similar to this new content.\n",
    "\n",
    "### Best practices for vector search\n",
    "To use vector search effectively, you need to pair it with metadata and the right embedding model.\n",
    "\n",
    "Store relevant metadata about a vector in other fields in your table. For example, if your vector is an image, store a reference to the original image in the same table.\n",
    "\n",
    "Select an embedding model based on your data and the queries you will make. Embedding models exist for text, images, audio, video, and more.\n",
    "\n",
    "### Limitations of vector search\n",
    "While vector embeddings can replace or augment some functions of a traditional database, vector embeddings are not a replacement for other data types. Vector search is best used as a supplement to existing search techniques because of its limitations:\n",
    "\n",
    "Vector embeddings are not human-readable.\n",
    "\n",
    "Embeddings are not best for directly retrieving data from a table. However, you can pair a vector search with a traditional search. For example, you can find the most similar blog posts by a particular author.\n",
    "\n",
    "The embedding model might not be able to capture all relevant information from the data, leading to incorrect or incomplete results.\n",
    "\n"
   ]
  },
  {
   "cell_type": "markdown",
   "metadata": {},
   "source": [
    "### Retrieval-Augmented Generation(RAG)"
   ]
  },
  {
   "cell_type": "markdown",
   "metadata": {},
   "source": [
    "RAG is a technique for improving the accuracy of an LLM. RAG accomplishes this by adding relevant content directly to the LLM’s context window. Here’s how it works:\n",
    "\n",
    "1. Pick an embedding model.\n",
    "\n",
    "2. Generate embeddings from your data.\n",
    "\n",
    "3. Store these embeddings in a vector database.\n",
    "\n",
    "4. When the user submits a query, generate an embedding from the query using the same model.\n",
    "\n",
    "5. Run a vector search to find data that’s similar to the user’s query.\n",
    "\n",
    "6. Pass this data to the LLM so it’s available in the context window.\n",
    "\n",
    "Now, when the LLM generates a response, it is less likely to make things up (hallucinate). See our chatbot and recommendation system tutorials to learn how to implement RAG.\n",
    "\n",
    "### AI agents\n",
    "An AI agent provides an LLM with the ability to take different actions depending on the goal. In the preceding RAG example, a user might submit a query unrelated to your content. You can build an agent to take the necessary actions to fetch relevant content.\n",
    "\n",
    "For example, you might design an agent to run a Google search with the user’s query. It can pass the results of that search to the LLM’s context window. It can also generate embeddings and store both the content and the embeddings in a vector database. In this way, your agent can build a persistent memory of the world and its actions."
   ]
  }
 ],
 "metadata": {
  "language_info": {
   "name": "python"
  }
 },
 "nbformat": 4,
 "nbformat_minor": 2
}
