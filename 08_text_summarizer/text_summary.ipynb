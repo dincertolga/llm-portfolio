{
 "cells": [
  {
   "cell_type": "markdown",
   "metadata": {},
   "source": [
    "### Chat method for summary creation"
   ]
  },
  {
   "cell_type": "code",
   "execution_count": 1,
   "metadata": {},
   "outputs": [],
   "source": [
    "import os \n",
    "\n",
    "os.environ[\"OPENAI_API_KEY\"] = open_api_key"
   ]
  },
  {
   "cell_type": "code",
   "execution_count": 2,
   "metadata": {},
   "outputs": [],
   "source": [
    "## Basic Prompt Summarization\n",
    "from langchain.chat_models import ChatOpenAI\n",
    "from langchain.schema import(\n",
    "    AIMessage,\n",
    "    HumanMessage,\n",
    "    SystemMessage\n",
    ")"
   ]
  },
  {
   "cell_type": "code",
   "execution_count": 3,
   "metadata": {},
   "outputs": [],
   "source": [
    "speech=\"\"\"I observe, gentlemen, that when I would lead you on a new venture you no longer follow me with your old spirit. I have asked you to meet me that we may come to a decision together: are we, upon my advice, to go forward, or, upon yours, to turn back?\n",
    "\n",
    "If you have any complaint to make about the results of your efforts hitherto, or about myself as your commander, there is no more to say. But let me remind you: through your courage and endurance you have gained possession of Ionia, the Hellespont, both Phrygias, Cappadocia, Paphlagonia, Lydia, Caria, Lycia, Pamphylia, Phoenicia, and Egypt; the Greek part of Libya is now yours, together with much of Arabia, lowland Syria, Mesopotamia, Babylon, and Susia; Persia and Media with all the territories either formerly controlled by them or not are in your hands; you have made yourselves masters of the lands beyond the Caspian Gates, beyond the Caucasus, beyond the Tanais, of Bactria, Hyrcania, and the Hyrcanian sea; we have driven the Scythians back into the desert; and Indus and Hydaspes, Acesines and Hydraotes flow now through country which is ours. With all that accomplished, why do you hesitate to extend the power of Macedon–yourpower–to the Hyphasis and the tribes on the other side ? Are you afraid that a few natives who may still be left will offer opposition? Come, come! These natives either surrender without a blow or are caught on the run–or leave their country undefended for your taking; and when we take it, we make a present of it to those who have joined us of their own free will and fight on our side.\n",
    "\n",
    "For a man who is a man, work, in my belief, if it is directed to noble ends, has no object beyond itself; none the less, if any of you wish to know what limit may be set to this particular camapaign, let me tell you that the area of country still ahead of us, from here to the Ganges and the Eastern ocean, is comparatively small. You will undoubtedly find that this ocean is connected with the Hyrcanian Sea, for the great Stream of Ocean encircles the earth. Moreover I shall prove to you, my friends, that the Indian and Persian Gulfs and the Hyrcanian Sea are all three connected and continuous. Our ships will sail round from the Persian Gulf to Libya as far as the Pillars of Hercules, whence all Libya to the eastward will soon be ours, and all Asia too, and to this empire there will be no boundaries but what God Himself has made for the whole world.\n",
    "\n",
    "But if you turn back now, there will remain unconquered many warlike peoples between the Hyphasis and the Eastern Ocean, and many more to the northward and the Hyrcanian Sea, with the Scythians, too, not far away; so that if we withdraw now there is a danger that the territory which we do not yet securely hold may be stirred to revolt by some nation or other we have not yet forced into submission. Should that happen, all that we have done and suffered will have proved fruitless–or we shall be faced with the task of doing it over again from the beginning. Gentlemen of Macedon, and you, my friends and allies, this must not be. Stand firm; for well you know that hardship and danger are the price of glory, and that sweet is the savour of a life of courage and of deathless renown beyond the grave.\n",
    "\n",
    "Are you not aware that if Heracles, my ancestor, had gone no further than Tiryns or Argos–or even than the Peloponnese or Thebes–he could never have won the glory which changed him from a man into a god, actual or apparent? Even Dionysus, who is a god indeed, in a sense beyond what is applicable to Heracles, faced not a few laborious tasks; yet we have done more: we have passed beyond Nysa and we have taken the rock of Aornos which Heracles himself could not take. Come, then; add the rest of Asia to what you already possess–a small addition to the great sum of your conquests. What great or noble work could we ourselves have achieved had we thought it enough, living at ease in Macedon, merely to guard our homes, accepting no burden beyond checking the encroachment of the Thracians on our borders, or the Illyrians and Triballians, or perhaps such Greeks as might prove a menace to our comfort ?\n",
    "\n",
    "I could not have blamed you for being the first to lose heart if I, your commander, had not shared in your exhausting marches and your perilous campaigns; it would have been natural enough if you had done all the work merely for others to reap the reward. But it is not so. You and I, gentlemen, have shared the labour and shared the danger, and the rewards are for us all. The conquered territory belongs to you; from your ranks the governors of it are chosen; already the greater part of its treasure passes into your hands, and when all Asia is overrun, then indeed I will go further than the mere satisfaction of our ambitions: the utmost hopes of riches or power which each one of you cherishes will be far surpassed, and whoever wishes to return home will be allowed to go, either with me or without me. I will make those who stay the envy of those who return.\"\"\""
   ]
  },
  {
   "cell_type": "code",
   "execution_count": 4,
   "metadata": {},
   "outputs": [
    {
     "name": "stderr",
     "output_type": "stream",
     "text": [
      "/Users/tolgadincer/Documents/AI_Projects/text_summary/venv/lib/python3.9/site-packages/langchain_core/_api/deprecation.py:117: LangChainDeprecationWarning: The class `langchain_community.chat_models.openai.ChatOpenAI` was deprecated in langchain-community 0.0.10 and will be removed in 0.2.0. An updated version of the class exists in the langchain-openai package and should be used instead. To use it run `pip install -U langchain-openai` and import as `from langchain_openai import ChatOpenAI`.\n",
      "  warn_deprecated(\n"
     ]
    }
   ],
   "source": [
    "chat_messages=[\n",
    "    SystemMessage(content='You are an expert at summarizing speeches'),\n",
    "    HumanMessage(content=f'Please provide a short and concise summary of the following speech:\\n TEXT: {speech}')\n",
    "]\n",
    "\n",
    "llm=ChatOpenAI(model_name='gpt-3.5-turbo')"
   ]
  },
  {
   "cell_type": "code",
   "execution_count": 5,
   "metadata": {},
   "outputs": [
    {
     "data": {
      "text/plain": [
       "1160"
      ]
     },
     "execution_count": 5,
     "metadata": {},
     "output_type": "execute_result"
    }
   ],
   "source": [
    "##total tokens\n",
    "llm.get_num_tokens(speech)"
   ]
  },
  {
   "cell_type": "code",
   "execution_count": 6,
   "metadata": {},
   "outputs": [
    {
     "name": "stderr",
     "output_type": "stream",
     "text": [
      "/Users/tolgadincer/Documents/AI_Projects/text_summary/venv/lib/python3.9/site-packages/langchain_core/_api/deprecation.py:117: LangChainDeprecationWarning: The function `__call__` was deprecated in LangChain 0.1.7 and will be removed in 0.2.0. Use invoke instead.\n",
      "  warn_deprecated(\n"
     ]
    },
    {
     "data": {
      "text/plain": [
       "'In this speech, the speaker addresses his audience, expressing his disappointment in their lack of enthusiasm for a new venture. He reminds them of their past accomplishments and territories they have conquered. He encourages them to continue expanding their power and assures them that the remaining territories are easily conquerable. He warns of the dangers of turning back and leaving unconquered lands that could potentially revolt. He emphasizes the value of hardship and danger in achieving glory and eternal renown. He compares their achievements to those of Heracles and Dionysus, urging them to surpass their predecessors. The speaker promises great rewards and riches for their efforts and offers the choice to return home for those who wish to do so.'"
      ]
     },
     "execution_count": 6,
     "metadata": {},
     "output_type": "execute_result"
    }
   ],
   "source": [
    "llm(chat_messages).content"
   ]
  },
  {
   "cell_type": "code",
   "execution_count": 7,
   "metadata": {},
   "outputs": [
    {
     "name": "stdout",
     "output_type": "stream",
     "text": [
      "In this speech, the speaker addresses his followers and expresses concern about their lack of enthusiasm and willingness to continue on their current path. He reminds them of their past achievements and conquests, urging them to extend their power further. He assures them that the remaining territories are easily conquerable and that their efforts will be rewarded with glory and riches. The speaker emphasizes the importance of perseverance and courage in the pursuit of greatness and warns of the potential consequences of turning back. He promises those who stay with him even greater rewards and success.\n"
     ]
    }
   ],
   "source": [
    "##get_summary\n",
    "print(llm(chat_messages).content)"
   ]
  },
  {
   "cell_type": "markdown",
   "metadata": {},
   "source": [
    "### Prompt Template Method for Text Summarization"
   ]
  },
  {
   "cell_type": "code",
   "execution_count": 8,
   "metadata": {},
   "outputs": [],
   "source": [
    "from langchain.chains import LLMChain\n",
    "from langchain import PromptTemplate"
   ]
  },
  {
   "cell_type": "code",
   "execution_count": 9,
   "metadata": {},
   "outputs": [],
   "source": [
    "generic_template='''\n",
    "Write a summary of the following speech:\n",
    "Speech : `{speech}`\n",
    "Translate the precise summary to {language}.\n",
    "\n",
    "'''\n",
    "prompt=PromptTemplate(\n",
    "    input_variables=['speech','language'],\n",
    "    template=generic_template\n",
    ")"
   ]
  },
  {
   "cell_type": "code",
   "execution_count": 10,
   "metadata": {},
   "outputs": [
    {
     "data": {
      "text/plain": [
       "'\\nWrite a summary of the following speech:\\nSpeech : `I observe, gentlemen, that when I would lead you on a new venture you no longer follow me with your old spirit. I have asked you to meet me that we may come to a decision together: are we, upon my advice, to go forward, or, upon yours, to turn back?\\n\\nIf you have any complaint to make about the results of your efforts hitherto, or about myself as your commander, there is no more to say. But let me remind you: through your courage and endurance you have gained possession of Ionia, the Hellespont, both Phrygias, Cappadocia, Paphlagonia, Lydia, Caria, Lycia, Pamphylia, Phoenicia, and Egypt; the Greek part of Libya is now yours, together with much of Arabia, lowland Syria, Mesopotamia, Babylon, and Susia; Persia and Media with all the territories either formerly controlled by them or not are in your hands; you have made yourselves masters of the lands beyond the Caspian Gates, beyond the Caucasus, beyond the Tanais, of Bactria, Hyrcania, and the Hyrcanian sea; we have driven the Scythians back into the desert; and Indus and Hydaspes, Acesines and Hydraotes flow now through country which is ours. With all that accomplished, why do you hesitate to extend the power of Macedon–yourpower–to the Hyphasis and the tribes on the other side ? Are you afraid that a few natives who may still be left will offer opposition? Come, come! These natives either surrender without a blow or are caught on the run–or leave their country undefended for your taking; and when we take it, we make a present of it to those who have joined us of their own free will and fight on our side.\\n\\nFor a man who is a man, work, in my belief, if it is directed to noble ends, has no object beyond itself; none the less, if any of you wish to know what limit may be set to this particular camapaign, let me tell you that the area of country still ahead of us, from here to the Ganges and the Eastern ocean, is comparatively small. You will undoubtedly find that this ocean is connected with the Hyrcanian Sea, for the great Stream of Ocean encircles the earth. Moreover I shall prove to you, my friends, that the Indian and Persian Gulfs and the Hyrcanian Sea are all three connected and continuous. Our ships will sail round from the Persian Gulf to Libya as far as the Pillars of Hercules, whence all Libya to the eastward will soon be ours, and all Asia too, and to this empire there will be no boundaries but what God Himself has made for the whole world.\\n\\nBut if you turn back now, there will remain unconquered many warlike peoples between the Hyphasis and the Eastern Ocean, and many more to the northward and the Hyrcanian Sea, with the Scythians, too, not far away; so that if we withdraw now there is a danger that the territory which we do not yet securely hold may be stirred to revolt by some nation or other we have not yet forced into submission. Should that happen, all that we have done and suffered will have proved fruitless–or we shall be faced with the task of doing it over again from the beginning. Gentlemen of Macedon, and you, my friends and allies, this must not be. Stand firm; for well you know that hardship and danger are the price of glory, and that sweet is the savour of a life of courage and of deathless renown beyond the grave.\\n\\nAre you not aware that if Heracles, my ancestor, had gone no further than Tiryns or Argos–or even than the Peloponnese or Thebes–he could never have won the glory which changed him from a man into a god, actual or apparent? Even Dionysus, who is a god indeed, in a sense beyond what is applicable to Heracles, faced not a few laborious tasks; yet we have done more: we have passed beyond Nysa and we have taken the rock of Aornos which Heracles himself could not take. Come, then; add the rest of Asia to what you already possess–a small addition to the great sum of your conquests. What great or noble work could we ourselves have achieved had we thought it enough, living at ease in Macedon, merely to guard our homes, accepting no burden beyond checking the encroachment of the Thracians on our borders, or the Illyrians and Triballians, or perhaps such Greeks as might prove a menace to our comfort ?\\n\\nI could not have blamed you for being the first to lose heart if I, your commander, had not shared in your exhausting marches and your perilous campaigns; it would have been natural enough if you had done all the work merely for others to reap the reward. But it is not so. You and I, gentlemen, have shared the labour and shared the danger, and the rewards are for us all. The conquered territory belongs to you; from your ranks the governors of it are chosen; already the greater part of its treasure passes into your hands, and when all Asia is overrun, then indeed I will go further than the mere satisfaction of our ambitions: the utmost hopes of riches or power which each one of you cherishes will be far surpassed, and whoever wishes to return home will be allowed to go, either with me or without me. I will make those who stay the envy of those who return.`\\nTranslate the precise summary to Turkish.\\n\\n'"
      ]
     },
     "execution_count": 10,
     "metadata": {},
     "output_type": "execute_result"
    }
   ],
   "source": [
    "# Translate to Turkish\n",
    "prompt.format(speech=speech,language='Turkish')"
   ]
  },
  {
   "cell_type": "code",
   "execution_count": 11,
   "metadata": {},
   "outputs": [],
   "source": [
    "complete_prompt=prompt.format(speech=speech,language='Turkish')"
   ]
  },
  {
   "cell_type": "code",
   "execution_count": 12,
   "metadata": {},
   "outputs": [
    {
     "data": {
      "text/plain": [
       "1180"
      ]
     },
     "execution_count": 12,
     "metadata": {},
     "output_type": "execute_result"
    }
   ],
   "source": [
    "llm.get_num_tokens(complete_prompt)"
   ]
  },
  {
   "cell_type": "code",
   "execution_count": 13,
   "metadata": {},
   "outputs": [
    {
     "name": "stderr",
     "output_type": "stream",
     "text": [
      "/Users/tolgadincer/Documents/AI_Projects/text_summary/venv/lib/python3.9/site-packages/langchain_core/_api/deprecation.py:117: LangChainDeprecationWarning: The function `run` was deprecated in LangChain 0.1.0 and will be removed in 0.2.0. Use invoke instead.\n",
      "  warn_deprecated(\n"
     ]
    }
   ],
   "source": [
    "llm_chain=LLMChain(llm=llm,prompt=prompt)\n",
    "summary=llm_chain.run({'speech':speech,'language':'turkish'})"
   ]
  },
  {
   "cell_type": "code",
   "execution_count": 14,
   "metadata": {},
   "outputs": [
    {
     "data": {
      "text/plain": [
       "\"Konuşma özeti: Beyler, yeni bir girişime öncülük etmek istediğimde, artık eski ruhla beni takip etmiyorsunuz. Kararı birlikte vermeyi amaçladığımız için burada buluşmanızı istedim: Benim önerim üzerine ilerlemeye mi devam edeceğiz, yoksa sizin önerinize göre geri mi döneceğiz?\\n\\nŞimdiye kadar yaptığınız çabaların sonuçlarıyla veya benim komutanınız olarak kendimle ilgili herhangi bir şikayetiniz varsa, daha fazla söylenecek bir şey yok. Ancak hatırlatmak istiyorum: Cesaretiniz ve dayanıklılığınız sayesinde İyonya, Gelibolu Boğazı, her iki Frigya, Kapadokya, Paphlagonia, Lydia, Caria, Lycia, Pamphylia, Fenike ve Mısır'ı ele geçirdiniz; Yunanistan'ın Libya kısmı şimdi sizin, Arabistan'ın büyük bir kısmı da sizindir, düşük seviyeli Suriye, Mezopotamya, Babil ve Susia; Pers ve Medya'nın kontrol ettiği veya etmediği tüm bölgeler sizin elinizde; Hazar Kapıları'nın ötesindeki topraklarda hakimiyet kurduk, Kafkasya'nın ötesinde, Tanais Nehri'nin ötesinde, Bactria, Hyrcania ve Hyrcanian Denizi'nde; Sarmatları çöle geri püskürttük; ve Indus, Hydaspes, Acesines ve Hydraotes, şu anda bizim olduğumuz topraklardan akıyor. Tüm bunlar başarıldıktan sonra, neden Makedonya'nın gücünü - sizin gücünüzü - Hyphasis ve diğer taraftaki kabilelere kadar genişletmekte tereddüt ediyorsunuz? Hala direniş gösterebilecek birkaç yerli mi korkuyorsunuz? Gel, gel! Bu yerliler ya bir darbeyle teslim oluyor ya da kaçarken yakalanıyor - veya ülkelerini savunmasız bırakıyorlar, biz de alıyoruz; ve aldığımızda, yanımıza katılan ve kendi istekleriyle savaşanlara hediye ediyoruz.\\n\\nBir insan için, benim inancıma göre, asil amaçlar doğrultusunda yönlendirilen çalışmanın kendinden başka bir amacı yoktur; yine de, bu özel kampanyaya ne gibi bir sınırın konulabileceğini merak edenler varsa, şunu söyleyeyim ki, önümüzdeki alan, buradan Ganges ve Doğu okyanusu'na kadar olan alan, görece küçüktür. Şüphesiz ki bu okyanusun Hyrcanian Denizi'ne bağlı olduğunu kanıtlayacağım, çünkü Büyük Okyanus Akıntısı dünyayı çevreler. Dahası, dostlarım, Hint ve Fars Körfezleri ile Hyrcanian Denizi'nin üçü de birbirine bağlı ve süreklidir. Gemilerimiz, Hazar Körfezi'nden Libya'ya, oradan da Kartaca Sütunları'na kadar dolaşacak, böylece Libya'nın doğusuna kadar ve tüm Asya'ya da hükmetmiş olacağız, ve bu imparatorluğun sınırları, Tanrı'nın tüm dünya için belirlediği sınırlardan başka bir şey olmayacak.\\n\\nAncak şimdi geri dönersek, Hyphasis ve Doğu Okyanusu arasında hala birçok savaşçı halk kalacak, Kuzey'e ve Hyrcanian Denizi'ne daha fazlası olacak, ayrıca Sarmatlar da çok uzakta değil; bu nedenle şu anda hala güvenli bir şekilde elinde tutmadığımız topraklar, daha önce boyun eğdirmeyi başaramadığımız bazı uluslar tarafından isyan çıkarılma tehlikesiyle karşı karşıya kalabilir. Eğer böyle bir şey olursa, yaptığımız ve çektiğimiz tüm şeyler boşa çıkmış olacak - veya baştan başlamak zorunda kalacağız. Makedonya beyleri ve dostlarım, bu olmamalı. Sarsılmayın; çünkü zorluk ve tehlike, şöhretin bedelidir ve cesaret dolu bir yaşamın ve ölümsüz bir ünün mezarın ötesindeki tatlı tadıdır.\\n\\nBilmiyor musunuz ki, eğer atam Heracles, sadece Tiryns veya Argos'a veya hatta Peloponez veya Thebai'ye gitseydi, kendisini tanrıdan bir insana dönüştüren şanı elde edemezdi miydi? Gerçekten de Tanrı olan Dionysus bile birkaç zorlu görevle karşı karşıya kaldı; ama biz daha fazlasını yaptık: Nysa'nın ötesine geçtik ve Heracles'ın bile alamadığı Aornos kayasını aldık. Öyleyse, şimdikinden daha fazlasını ekleyin zaten sahip olduğunuz Asya'ya - büyük fethinizin küçük bir eklemesi. Hangi büyük veya asil işi başarabilirdik ki, Makedonya'da rahat bir şekilde yaşayarak, sadece evlerimizi korumakla yetinsek, sınırlarımızdaki Trakyalıların ilerlemesini, İliryalıları ve Triballileri engelleme yükünü kabul etmeden veya rahatımızı tehdit edebilecek Yunanlıların kontrol altına alınmasını kabul etmeden?\\n\\nEğer komutanınız olarak ben de yorucu yürüyüşlerinizde ve tehlikeli kampanyalarınızda sizinle aynı kaderi paylaşmasaydım, ilk umudu kaybetmenizi suçlayamazdım; çalışmanın tüm meyvelerini başkalarının toplaması için sizin tüm işi yapmanız doğal olurdu. Ama öyle değil. Sizler ve ben, beyler, çalışmanın yükünü ve tehlikesini paylaştık ve ödüller hepimiz için. Fethedilen topraklar size aittir; yöneticileri sizin aranızdan seçilir; zaten en büyük hazinelerinin çoğu sizin ellerinizde geçiyor ve tüm Asya ele geçirildiğinde, gerçekten de hırslarımızı tatmin etmekten daha ileri gideceğim: her birinizin beslediği zenginlik veya güç umutlarınızın hepsi çok aşılacak ve evine dönmek isteyen herkese, benimle veya ben olmadan gitme izni verilecek. Kalanlara, dönenlerin kıskanacağı bir şey yapacağım.\""
      ]
     },
     "execution_count": 14,
     "metadata": {},
     "output_type": "execute_result"
    }
   ],
   "source": [
    "summary"
   ]
  },
  {
   "cell_type": "markdown",
   "metadata": {},
   "source": [
    "### StuffDocumentChain PDF Text Summarization"
   ]
  },
  {
   "cell_type": "code",
   "execution_count": 15,
   "metadata": {},
   "outputs": [],
   "source": [
    "from PyPDF2 import PdfReader\n",
    "\n",
    "pdfreader = PdfReader('Speech-of-Alexander-the-Great.pdf')"
   ]
  },
  {
   "cell_type": "code",
   "execution_count": 16,
   "metadata": {},
   "outputs": [],
   "source": [
    "from typing_extensions import Concatenate\n",
    "# read text from pdf\n",
    "text = ''\n",
    "for i, page in enumerate(pdfreader.pages):\n",
    "    content = page.extract_text()\n",
    "    if content:\n",
    "        text += content"
   ]
  },
  {
   "cell_type": "code",
   "execution_count": 17,
   "metadata": {},
   "outputs": [
    {
     "data": {
      "text/plain": [
       "'Ancient History Sourcebook:   \\nArrian: Speech of Alexander the Great,   \\nfrom  The Campaigns of Alexander  \\n \\nI observe, gentlemen, that when I would lead you on a new venture you no longer \\nfollow me with your old spirit. I ha ve asked you to meet me that we may come to a \\ndecision together: are we, upon my advice, to go forward, or, upon yours, to turn \\nback?  \\nIf you have any complaint to make about the results of your efforts hitherto, or about \\nmyself as your commander, there is no more to say. But let me remind you: through \\nyour courage and endurance you have gained possession of Ionia, the Hellespont, both \\nPhrygias, Cappadocia, Paphlagonia, Lydia, Caria, Lycia, Pamphylia, Phoenicia, and \\nEgypt; the Greek part of Libya is now your s, together with much of Arabia, lowland \\nSyria, Mesopotamia, Babylon, and Susia; Persia and Media with all the territories \\neither formerly controlled by them or not are in your hands; you have made \\nyourselves masters of the lands beyond the Caspian Gates, beyond the Caucasus, \\nbeyond the Tanais, of Bactria, Hyrcania, and the Hyrcanian sea; we have driven the \\nScythians back into the desert; and Indus and Hydaspes, Acesines and Hydraotes flow \\nnow through country which is ours. With all that accomplished, why d o you hesitate \\nto extend the power of Macedon --yourpower --to the Hyphasis and the tribes on the \\nother side ? Are you afraid that a few natives who may still be left will offer \\nopposition? Come, come! These natives either surrender without a blow or are cau ght \\non the run --or leave their country undefended for your taking; and when we take it, we \\nmake a present of it to those who have joined us of their own free will and fight on \\nour side.  \\nFor a man who  is a man, work, in my belief, if it is directed to noble ends, has no \\nobject beyond itself; none the less, if any of you wish to know what limit may be set \\nto this particular camapaign, let me tell you that the area of country still ahead of us, \\nfrom here to the Ganges and the Eastern ocean, is comparatively small. You will \\nundoubtedly find that this ocean is connected with the Hyrcanian Sea, for the great \\nStream of Ocean encircles the earth. Moreover I shall prove to you, my friends, that \\nthe Indian and Persi an Gulfs and the Hyrcanian Sea are all three connected and \\ncontinuous. Our ships will sail round from the Persian Gulf to Libya as far as the \\nPillars of Hercules, whence all Libya to the eastward will soon be ours, and all Asia \\ntoo, and to this empire ther e will be no boundaries but what God Himself has made \\nfor the whole world.  But if you turn back now, there will remain unconquered many warlike peoples \\nbetween the Hyphasis and the Eastern Ocean, and many more to the northward and \\nthe Hyrcanian Sea, with t he Scythians, too, not far away; so that if we withdraw now \\nthere is a danger that the territory which we do not yet securely hold may be stirred to \\nrevolt by some nation or other we have not yet forced into submission. Should that \\nhappen, all that we have  done and suffered will have proved fruitless --or we shall be \\nfaced with the task of doing it over again from the beginning. Gentlemen of Macedon, \\nand you, my friends and allies, this must not be. Stand firm; for well you know that \\nhardship and danger are the price of glory, and that sweet is the savour of a life of \\ncourage and of deathless renown beyond the grave.  \\nAre you not aware that if Heracles, my ancestor, had gone no further than Tiryns or \\nArgos --or even than the Peloponnese or Thebes --he could neve r have won the glory \\nwhich changed him from a man into a god, actual or apparent? Even Dionysus, who is \\na god indeed, in a sense beyond what is applicable to Heracles, faced not a few \\nlaborious tasks; yet we have done more: we have passed beyond Nysa and w e have \\ntaken the rock of Aornos which Heracles himself could not take. Come, then; add the \\nrest of Asia to what you already possess --a small addition to the great sum of your \\nconquests. What great or noble work could we ourselves have achieved had we \\nthoug ht it enough, living at ease in Macedon, merely to guard our homes, accepting \\nno burden beyond checking the encroachment of the Thracians on our borders, or the \\nIllyrians and Triballians, or perhaps such Greeks as might prove a menace to our \\ncomfort ?  \\nI could not have blamed you for being the first to lose heart if I, your commander, had \\nnot shared in your exhausting marches and your perilous campaigns; it would have \\nbeen natural enough if you had done all the work merely for others to reap the reward. \\nBut it is not so. You and I, gentlemen, have shared the labour and shared the danger, \\nand the rewards are for us all. The conquered territory belongs to you; from your \\nranks the governors of it are chosen; already the greater part of its treasure passes into \\nyour hands, and when all Asia is overrun, then indeed I will go further than the mere \\nsatisfaction of our ambitions: the utmost hopes of riches or power which each one of \\nyou cherishes will be far surpassed, and whoever wishes to return home will be \\nallowed  to go, either with me or without me. I will make those who stay the envy of \\nthose who return.  \\n \\nSource:  \\nScanned by: J. S. Arkenberg, Dept. of History, Cal. State Fullerton. Prof. Arkenberg \\nmay have modernized the text.   \\nThis text is part of the  Internet Ancient History Sourcebook . The Sourcebook is a \\ncollection of public domain and copy -permitted texts related to medieva l and \\nByzantine history.  \\nUnless otherwise indicated the specific electronic form of the document is copyright. \\nPermission is granted for electronic copying, distribution in print form for educational \\npurposes and personal use. No representation is made abo ut texts which are linked \\noff-site, although in most cases these are also public domain. If you do reduplicate the \\ndocument, indicate the source. No permission is granted for commercial use.  \\nSee Statement about Copyright and Fair Use  \\nSee How to Cite  these pages in books, term papers, etc.  \\n© Paul Halsall, August 2000  \\nhalsall@fordham.edu  \\n '"
      ]
     },
     "execution_count": 17,
     "metadata": {},
     "output_type": "execute_result"
    }
   ],
   "source": [
    "text"
   ]
  },
  {
   "cell_type": "code",
   "execution_count": 18,
   "metadata": {},
   "outputs": [],
   "source": [
    "from langchain.docstore.document import Document\n",
    "\n",
    "#collect all the text into a document\n",
    "\n",
    "docs = [Document(page_content=text)]"
   ]
  },
  {
   "cell_type": "code",
   "execution_count": 19,
   "metadata": {},
   "outputs": [
    {
     "data": {
      "text/plain": [
       "[Document(page_content='Ancient History Sourcebook:   \\nArrian: Speech of Alexander the Great,   \\nfrom  The Campaigns of Alexander  \\n \\nI observe, gentlemen, that when I would lead you on a new venture you no longer \\nfollow me with your old spirit. I ha ve asked you to meet me that we may come to a \\ndecision together: are we, upon my advice, to go forward, or, upon yours, to turn \\nback?  \\nIf you have any complaint to make about the results of your efforts hitherto, or about \\nmyself as your commander, there is no more to say. But let me remind you: through \\nyour courage and endurance you have gained possession of Ionia, the Hellespont, both \\nPhrygias, Cappadocia, Paphlagonia, Lydia, Caria, Lycia, Pamphylia, Phoenicia, and \\nEgypt; the Greek part of Libya is now your s, together with much of Arabia, lowland \\nSyria, Mesopotamia, Babylon, and Susia; Persia and Media with all the territories \\neither formerly controlled by them or not are in your hands; you have made \\nyourselves masters of the lands beyond the Caspian Gates, beyond the Caucasus, \\nbeyond the Tanais, of Bactria, Hyrcania, and the Hyrcanian sea; we have driven the \\nScythians back into the desert; and Indus and Hydaspes, Acesines and Hydraotes flow \\nnow through country which is ours. With all that accomplished, why d o you hesitate \\nto extend the power of Macedon --yourpower --to the Hyphasis and the tribes on the \\nother side ? Are you afraid that a few natives who may still be left will offer \\nopposition? Come, come! These natives either surrender without a blow or are cau ght \\non the run --or leave their country undefended for your taking; and when we take it, we \\nmake a present of it to those who have joined us of their own free will and fight on \\nour side.  \\nFor a man who  is a man, work, in my belief, if it is directed to noble ends, has no \\nobject beyond itself; none the less, if any of you wish to know what limit may be set \\nto this particular camapaign, let me tell you that the area of country still ahead of us, \\nfrom here to the Ganges and the Eastern ocean, is comparatively small. You will \\nundoubtedly find that this ocean is connected with the Hyrcanian Sea, for the great \\nStream of Ocean encircles the earth. Moreover I shall prove to you, my friends, that \\nthe Indian and Persi an Gulfs and the Hyrcanian Sea are all three connected and \\ncontinuous. Our ships will sail round from the Persian Gulf to Libya as far as the \\nPillars of Hercules, whence all Libya to the eastward will soon be ours, and all Asia \\ntoo, and to this empire ther e will be no boundaries but what God Himself has made \\nfor the whole world.  But if you turn back now, there will remain unconquered many warlike peoples \\nbetween the Hyphasis and the Eastern Ocean, and many more to the northward and \\nthe Hyrcanian Sea, with t he Scythians, too, not far away; so that if we withdraw now \\nthere is a danger that the territory which we do not yet securely hold may be stirred to \\nrevolt by some nation or other we have not yet forced into submission. Should that \\nhappen, all that we have  done and suffered will have proved fruitless --or we shall be \\nfaced with the task of doing it over again from the beginning. Gentlemen of Macedon, \\nand you, my friends and allies, this must not be. Stand firm; for well you know that \\nhardship and danger are the price of glory, and that sweet is the savour of a life of \\ncourage and of deathless renown beyond the grave.  \\nAre you not aware that if Heracles, my ancestor, had gone no further than Tiryns or \\nArgos --or even than the Peloponnese or Thebes --he could neve r have won the glory \\nwhich changed him from a man into a god, actual or apparent? Even Dionysus, who is \\na god indeed, in a sense beyond what is applicable to Heracles, faced not a few \\nlaborious tasks; yet we have done more: we have passed beyond Nysa and w e have \\ntaken the rock of Aornos which Heracles himself could not take. Come, then; add the \\nrest of Asia to what you already possess --a small addition to the great sum of your \\nconquests. What great or noble work could we ourselves have achieved had we \\nthoug ht it enough, living at ease in Macedon, merely to guard our homes, accepting \\nno burden beyond checking the encroachment of the Thracians on our borders, or the \\nIllyrians and Triballians, or perhaps such Greeks as might prove a menace to our \\ncomfort ?  \\nI could not have blamed you for being the first to lose heart if I, your commander, had \\nnot shared in your exhausting marches and your perilous campaigns; it would have \\nbeen natural enough if you had done all the work merely for others to reap the reward. \\nBut it is not so. You and I, gentlemen, have shared the labour and shared the danger, \\nand the rewards are for us all. The conquered territory belongs to you; from your \\nranks the governors of it are chosen; already the greater part of its treasure passes into \\nyour hands, and when all Asia is overrun, then indeed I will go further than the mere \\nsatisfaction of our ambitions: the utmost hopes of riches or power which each one of \\nyou cherishes will be far surpassed, and whoever wishes to return home will be \\nallowed  to go, either with me or without me. I will make those who stay the envy of \\nthose who return.  \\n \\nSource:  \\nScanned by: J. S. Arkenberg, Dept. of History, Cal. State Fullerton. Prof. Arkenberg \\nmay have modernized the text.   \\nThis text is part of the  Internet Ancient History Sourcebook . The Sourcebook is a \\ncollection of public domain and copy -permitted texts related to medieva l and \\nByzantine history.  \\nUnless otherwise indicated the specific electronic form of the document is copyright. \\nPermission is granted for electronic copying, distribution in print form for educational \\npurposes and personal use. No representation is made abo ut texts which are linked \\noff-site, although in most cases these are also public domain. If you do reduplicate the \\ndocument, indicate the source. No permission is granted for commercial use.  \\nSee Statement about Copyright and Fair Use  \\nSee How to Cite  these pages in books, term papers, etc.  \\n© Paul Halsall, August 2000  \\nhalsall@fordham.edu  \\n ')]"
      ]
     },
     "execution_count": 19,
     "metadata": {},
     "output_type": "execute_result"
    }
   ],
   "source": [
    "docs"
   ]
  },
  {
   "cell_type": "code",
   "execution_count": 20,
   "metadata": {},
   "outputs": [],
   "source": [
    "llm = ChatOpenAI(temperature=0, model_name='gpt-3.5-turbo')"
   ]
  },
  {
   "cell_type": "code",
   "execution_count": 21,
   "metadata": {},
   "outputs": [],
   "source": [
    "from langchain import PromptTemplate\n",
    "from langchain.chat_models import ChatOpenAI\n",
    "from langchain.chains.summarize import load_summarize_chain\n",
    "from langchain.docstore.document import Document"
   ]
  },
  {
   "cell_type": "code",
   "execution_count": 22,
   "metadata": {},
   "outputs": [],
   "source": [
    "template = '''Write a concise and short summary of the following speech.\n",
    "Speech: `{text}`\n",
    "'''\n",
    "prompt = PromptTemplate(\n",
    "    input_variables=['text'],\n",
    "    template=template\n",
    ")"
   ]
  },
  {
   "cell_type": "code",
   "execution_count": 23,
   "metadata": {},
   "outputs": [],
   "source": [
    "chain = load_summarize_chain(\n",
    "    llm,\n",
    "    chain_type='stuff',\n",
    "    prompt=prompt,\n",
    "    verbose=False\n",
    ")\n",
    "output_summary = chain.run(docs)"
   ]
  },
  {
   "cell_type": "code",
   "execution_count": 24,
   "metadata": {},
   "outputs": [
    {
     "data": {
      "text/plain": [
       "'In this speech, Alexander the Great addresses his troops and expresses his disappointment in their lack of enthusiasm for a new venture. He reminds them of their past successes and territories they have conquered, and urges them to continue expanding the power of Macedon. He assures them that the remaining territories are relatively small and that they will be rewarded with riches and power. He emphasizes the importance of courage and the pursuit of glory, drawing parallels to the achievements of their ancestors. Alexander warns of the potential consequences of turning back, including the possibility of revolt in the territories they have not yet secured. He concludes by promising those who stay that they will be envied by those who return home.'"
      ]
     },
     "execution_count": 24,
     "metadata": {},
     "output_type": "execute_result"
    }
   ],
   "source": [
    "output_summary"
   ]
  },
  {
   "cell_type": "markdown",
   "metadata": {},
   "source": [
    "### Summarize large documents using map_reduce"
   ]
  },
  {
   "cell_type": "code",
   "execution_count": 25,
   "metadata": {},
   "outputs": [],
   "source": [
    "from langchain import PromptTemplate\n",
    "from langchain.chat_models import ChatOpenAI\n",
    "from langchain.chains.summarize import load_summarize_chain\n",
    "from langchain.text_splitter import RecursiveCharacterTextSplitter"
   ]
  },
  {
   "cell_type": "code",
   "execution_count": 26,
   "metadata": {},
   "outputs": [],
   "source": [
    "# provide the path of  pdf file/files.\n",
    "pdfreader = PdfReader('attention.pdf')\n",
    "from typing_extensions import Concatenate\n",
    "# read text from pdf\n",
    "text = ''\n",
    "for i, page in enumerate(pdfreader.pages):\n",
    "    content = page.extract_text()\n",
    "    if content:\n",
    "        text += content\n"
   ]
  },
  {
   "cell_type": "code",
   "execution_count": 27,
   "metadata": {},
   "outputs": [
    {
     "data": {
      "text/plain": [
       "10161"
      ]
     },
     "execution_count": 27,
     "metadata": {},
     "output_type": "execute_result"
    }
   ],
   "source": [
    "llm = ChatOpenAI(temperature=0, model_name='gpt-3.5-turbo')\n",
    "llm.get_num_tokens(text)"
   ]
  },
  {
   "cell_type": "code",
   "execution_count": 29,
   "metadata": {},
   "outputs": [
    {
     "data": {
      "text/plain": [
       "4"
      ]
     },
     "execution_count": 29,
     "metadata": {},
     "output_type": "execute_result"
    }
   ],
   "source": [
    "## Splittting the text\n",
    "text_splitter = RecursiveCharacterTextSplitter(chunk_size=10000, chunk_overlap=20)\n",
    "chunks = text_splitter.create_documents([text])\n",
    "len(chunks)"
   ]
  },
  {
   "cell_type": "code",
   "execution_count": 30,
   "metadata": {},
   "outputs": [],
   "source": [
    "chain = load_summarize_chain(\n",
    "    llm,\n",
    "    chain_type='map_reduce',\n",
    "    verbose=False\n",
    ")\n",
    "summary = chain.run(chunks)"
   ]
  },
  {
   "cell_type": "code",
   "execution_count": 31,
   "metadata": {},
   "outputs": [
    {
     "data": {
      "text/plain": [
       "'The paper introduces the Transformer, a new network architecture based on attention mechanisms. The Transformer achieves better results in machine translation tasks, is more parallelizable, and requires less training time compared to existing models. The paper discusses the advantages of self-attention and describes the architecture of the Transformer model. It also explores the use of multi-head attention and positional encoding. The authors demonstrate the effectiveness of the Transformer in various tasks and express their plans for further research. The paper includes examples of attention visualizations and acknowledges the contributions of others.'"
      ]
     },
     "execution_count": 31,
     "metadata": {},
     "output_type": "execute_result"
    }
   ],
   "source": [
    "summary"
   ]
  },
  {
   "cell_type": "markdown",
   "metadata": {},
   "source": [
    "### Map reduce with prompts"
   ]
  },
  {
   "cell_type": "code",
   "execution_count": 44,
   "metadata": {},
   "outputs": [],
   "source": [
    "chunks_prompt=\"\"\"\n",
    "Please summarize the below text:\n",
    "Text:`{text}'\n",
    "Summary:\n",
    "\"\"\"\n",
    "map_prompt_template=PromptTemplate(input_variables=['text'],\n",
    "                                    template=chunks_prompt)"
   ]
  },
  {
   "cell_type": "code",
   "execution_count": 45,
   "metadata": {},
   "outputs": [],
   "source": [
    "final_combine_prompt='''\n",
    "Provide a final summary of the entire text with these important points.\n",
    "Add a Generic Motivational Title,\n",
    "Start the precise summary with an introduction and provide the\n",
    "summary in number points for the text.\n",
    "Text: `{text}`\n",
    "'''\n",
    "final_combine_prompt_template=PromptTemplate(input_variables=['text'],\n",
    "                                             template=final_combine_prompt)"
   ]
  },
  {
   "cell_type": "code",
   "execution_count": 46,
   "metadata": {},
   "outputs": [],
   "source": [
    "summary_chain = load_summarize_chain(\n",
    "    llm=llm,\n",
    "    chain_type='map_reduce',\n",
    "    map_prompt=map_prompt_template,\n",
    "    combine_prompt=final_combine_prompt_template,\n",
    "    verbose=False\n",
    ")\n",
    "output = summary_chain.run(chunks)"
   ]
  },
  {
   "cell_type": "code",
   "execution_count": 47,
   "metadata": {},
   "outputs": [
    {
     "data": {
      "text/plain": [
       "'Unleashing the Power of Attention: A Summary of \"Attention Is All You Need\"\\n\\n1. The research paper titled \"Attention Is All You Need\" introduces the Transformer model, a network architecture based solely on attention mechanisms, without the use of recurrent or convolutional neural networks.\\n2. The Transformer model outperforms existing models in terms of translation quality, parallelizability, and training time.\\n3. The paper explains the use of attention mechanisms in the Transformer model, including dot-product attention and additive attention, as well as multi-head attention.\\n4. Attention is used in three ways in the Transformer model: encoder-decoder attention, self-attention in the encoder, and self-attention in the decoder.\\n5. The paper discusses the use of positional encoding to provide information about the relative or absolute position of tokens in the sequence.\\n6. The Transformer model replaces recurrent layers with multi-headed self-attention and achieves state-of-the-art results in English-French and English-German translation tasks.\\n7. The model was trained using one machine with 8 NVIDIA P100 GPUs, employing regularization techniques such as residual dropout and label smoothing.\\n8. The Transformer model also performs well in English constituency parsing and has the potential to be applied to other tasks.\\n9. The paper includes acknowledgements and a list of references to related research papers.\\n10. Attention visualizations from the encoder self-attention in layer 5 of 6 demonstrate how different attention heads attend to different parts of the input.\\n\\nOverall, \"Attention Is All You Need\" presents the Transformer model as a powerful alternative to recurrent and convolutional neural networks, showcasing its superior performance in various tasks and highlighting the potential for further exploration and application.'"
      ]
     },
     "execution_count": 47,
     "metadata": {},
     "output_type": "execute_result"
    }
   ],
   "source": [
    "output"
   ]
  },
  {
   "cell_type": "markdown",
   "metadata": {},
   "source": [
    "### Refine chain for summary"
   ]
  },
  {
   "cell_type": "code",
   "execution_count": 48,
   "metadata": {},
   "outputs": [
    {
     "name": "stdout",
     "output_type": "stream",
     "text": [
      "\n",
      "\n",
      "\u001b[1m> Entering new RefineDocumentsChain chain...\u001b[0m\n",
      "\n",
      "\n",
      "\u001b[1m> Entering new LLMChain chain...\u001b[0m\n",
      "Prompt after formatting:\n",
      "\u001b[32;1m\u001b[1;3mWrite a concise summary of the following:\n",
      "\n",
      "\n",
      "\"Provided proper attribution is provided, Google hereby grants permission to\n",
      "reproduce the tables and figures in this paper solely for use in journalistic or\n",
      "scholarly works.\n",
      "Attention Is All You Need\n",
      "Ashish Vaswani∗\n",
      "Google Brain\n",
      "avaswani@google.comNoam Shazeer∗\n",
      "Google Brain\n",
      "noam@google.comNiki Parmar∗\n",
      "Google Research\n",
      "nikip@google.comJakob Uszkoreit∗\n",
      "Google Research\n",
      "usz@google.com\n",
      "Llion Jones∗\n",
      "Google Research\n",
      "llion@google.comAidan N. Gomez∗ †\n",
      "University of Toronto\n",
      "aidan@cs.toronto.eduŁukasz Kaiser∗\n",
      "Google Brain\n",
      "lukaszkaiser@google.com\n",
      "Illia Polosukhin∗ ‡\n",
      "illia.polosukhin@gmail.com\n",
      "Abstract\n",
      "The dominant sequence transduction models are based on complex recurrent or\n",
      "convolutional neural networks that include an encoder and a decoder. The best\n",
      "performing models also connect the encoder and decoder through an attention\n",
      "mechanism. We propose a new simple network architecture, the Transformer,\n",
      "based solely on attention mechanisms, dispensing with recurrence and convolutions\n",
      "entirely. Experiments on two machine translation tasks show these models to\n",
      "be superior in quality while being more parallelizable and requiring significantly\n",
      "less time to train. Our model achieves 28.4 BLEU on the WMT 2014 English-\n",
      "to-German translation task, improving over the existing best results, including\n",
      "ensembles, by over 2 BLEU. On the WMT 2014 English-to-French translation task,\n",
      "our model establishes a new single-model state-of-the-art BLEU score of 41.8 after\n",
      "training for 3.5 days on eight GPUs, a small fraction of the training costs of the\n",
      "best models from the literature. We show that the Transformer generalizes well to\n",
      "other tasks by applying it successfully to English constituency parsing both with\n",
      "large and limited training data.\n",
      "∗Equal contribution. Listing order is random. Jakob proposed replacing RNNs with self-attention and started\n",
      "the effort to evaluate this idea. Ashish, with Illia, designed and implemented the first Transformer models and\n",
      "has been crucially involved in every aspect of this work. Noam proposed scaled dot-product attention, multi-head\n",
      "attention and the parameter-free position representation and became the other person involved in nearly every\n",
      "detail. Niki designed, implemented, tuned and evaluated countless model variants in our original codebase and\n",
      "tensor2tensor. Llion also experimented with novel model variants, was responsible for our initial codebase, and\n",
      "efficient inference and visualizations. Lukasz and Aidan spent countless long days designing various parts of and\n",
      "implementing tensor2tensor, replacing our earlier codebase, greatly improving results and massively accelerating\n",
      "our research.\n",
      "†Work performed while at Google Brain.\n",
      "‡Work performed while at Google Research.\n",
      "31st Conference on Neural Information Processing Systems (NIPS 2017), Long Beach, CA, USA.arXiv:1706.03762v7  [cs.CL]  2 Aug 20231 Introduction\n",
      "Recurrent neural networks, long short-term memory [ 13] and gated recurrent [ 7] neural networks\n",
      "in particular, have been firmly established as state of the art approaches in sequence modeling and\n",
      "transduction problems such as language modeling and machine translation [ 35,2,5]. Numerous\n",
      "efforts have since continued to push the boundaries of recurrent language models and encoder-decoder\n",
      "architectures [38, 24, 15].\n",
      "Recurrent models typically factor computation along the symbol positions of the input and output\n",
      "sequences. Aligning the positions to steps in computation time, they generate a sequence of hidden\n",
      "states ht, as a function of the previous hidden state ht−1and the input for position t. This inherently\n",
      "sequential nature precludes parallelization within training examples, which becomes critical at longer\n",
      "sequence lengths, as memory constraints limit batching across examples. Recent work has achieved\n",
      "significant improvements in computational efficiency through factorization tricks [ 21] and conditional\n",
      "computation [ 32], while also improving model performance in case of the latter. The fundamental\n",
      "constraint of sequential computation, however, remains.\n",
      "Attention mechanisms have become an integral part of compelling sequence modeling and transduc-\n",
      "tion models in various tasks, allowing modeling of dependencies without regard to their distance in\n",
      "the input or output sequences [ 2,19]. In all but a few cases [ 27], however, such attention mechanisms\n",
      "are used in conjunction with a recurrent network.\n",
      "In this work we propose the Transformer, a model architecture eschewing recurrence and instead\n",
      "relying entirely on an attention mechanism to draw global dependencies between input and output.\n",
      "The Transformer allows for significantly more parallelization and can reach a new state of the art in\n",
      "translation quality after being trained for as little as twelve hours on eight P100 GPUs.\n",
      "2 Background\n",
      "The goal of reducing sequential computation also forms the foundation of the Extended Neural GPU\n",
      "[16], ByteNet [ 18] and ConvS2S [ 9], all of which use convolutional neural networks as basic building\n",
      "block, computing hidden representations in parallel for all input and output positions. In these models,\n",
      "the number of operations required to relate signals from two arbitrary input or output positions grows\n",
      "in the distance between positions, linearly for ConvS2S and logarithmically for ByteNet. This makes\n",
      "it more difficult to learn dependencies between distant positions [ 12]. In the Transformer this is\n",
      "reduced to a constant number of operations, albeit at the cost of reduced effective resolution due\n",
      "to averaging attention-weighted positions, an effect we counteract with Multi-Head Attention as\n",
      "described in section 3.2.\n",
      "Self-attention, sometimes called intra-attention is an attention mechanism relating different positions\n",
      "of a single sequence in order to compute a representation of the sequence. Self-attention has been\n",
      "used successfully in a variety of tasks including reading comprehension, abstractive summarization,\n",
      "textual entailment and learning task-independent sentence representations [4, 27, 28, 22].\n",
      "End-to-end memory networks are based on a recurrent attention mechanism instead of sequence-\n",
      "aligned recurrence and have been shown to perform well on simple-language question answering and\n",
      "language modeling tasks [34].\n",
      "To the best of our knowledge, however, the Transformer is the first transduction model relying\n",
      "entirely on self-attention to compute representations of its input and output without using sequence-\n",
      "aligned RNNs or convolution. In the following sections, we will describe the Transformer, motivate\n",
      "self-attention and discuss its advantages over models such as [17, 18] and [9].\n",
      "3 Model Architecture\n",
      "Most competitive neural sequence transduction models have an encoder-decoder structure [ 5,2,35].\n",
      "Here, the encoder maps an input sequence of symbol representations (x1, ..., x n)to a sequence\n",
      "of continuous representations z= (z1, ..., z n). Given z, the decoder then generates an output\n",
      "sequence (y1, ..., y m)of symbols one element at a time. At each step the model is auto-regressive\n",
      "[10], consuming the previously generated symbols as additional input when generating the next.\n",
      "2Figure 1: The Transformer - model architecture.\n",
      "The Transformer follows this overall architecture using stacked self-attention and point-wise, fully\n",
      "connected layers for both the encoder and decoder, shown in the left and right halves of Figure 1,\n",
      "respectively.\n",
      "3.1 Encoder and Decoder Stacks\n",
      "Encoder: The encoder is composed of a stack of N= 6 identical layers. Each layer has two\n",
      "sub-layers. The first is a multi-head self-attention mechanism, and the second is a simple, position-\n",
      "wise fully connected feed-forward network. We employ a residual connection [ 11] around each of\n",
      "the two sub-layers, followed by layer normalization [ 1]. That is, the output of each sub-layer is\n",
      "LayerNorm( x+ Sublayer( x)), where Sublayer( x)is the function implemented by the sub-layer\n",
      "itself. To facilitate these residual connections, all sub-layers in the model, as well as the embedding\n",
      "layers, produce outputs of dimension dmodel = 512 .\n",
      "Decoder: The decoder is also composed of a stack of N= 6identical layers. In addition to the two\n",
      "sub-layers in each encoder layer, the decoder inserts a third sub-layer, which performs multi-head\n",
      "attention over the output of the encoder stack. Similar to the encoder, we employ residual connections\n",
      "around each of the sub-layers, followed by layer normalization. We also modify the self-attention\n",
      "sub-layer in the decoder stack to prevent positions from attending to subsequent positions. This\n",
      "masking, combined with fact that the output embeddings are offset by one position, ensures that the\n",
      "predictions for position ican depend only on the known outputs at positions less than i.\n",
      "3.2 Attention\n",
      "An attention function can be described as mapping a query and a set of key-value pairs to an output,\n",
      "where the query, keys, values, and output are all vectors. The output is computed as a weighted sum\n",
      "3Scaled Dot-Product Attention\n",
      " Multi-Head Attention\n",
      "Figure 2: (left) Scaled Dot-Product Attention. (right) Multi-Head Attention consists of several\n",
      "attention layers running in parallel.\n",
      "of the values, where the weight assigned to each value is computed by a compatibility function of the\n",
      "query with the corresponding key.\n",
      "3.2.1 Scaled Dot-Product Attention\n",
      "We call our particular attention \"Scaled Dot-Product Attention\" (Figure 2). The input consists of\n",
      "queries and keys of dimension dk, and values of dimension dv. We compute the dot products of the\n",
      "query with all keys, divide each by√dk, and apply a softmax function to obtain the weights on the\n",
      "values.\n",
      "In practice, we compute the attention function on a set of queries simultaneously, packed together\n",
      "into a matrix Q. The keys and values are also packed together into matrices KandV. We compute\n",
      "the matrix of outputs as:\n",
      "Attention( Q, K, V ) = softmax(QKT\n",
      "√dk)V (1)\n",
      "The two most commonly used attention functions are additive attention [ 2], and dot-product (multi-\"\n",
      "\n",
      "\n",
      "CONCISE SUMMARY:\u001b[0m\n",
      "\n",
      "\u001b[1m> Finished chain.\u001b[0m\n",
      "\n",
      "\n",
      "\u001b[1m> Entering new LLMChain chain...\u001b[0m\n",
      "Prompt after formatting:\n",
      "\u001b[32;1m\u001b[1;3mYour job is to produce a final summary.\n",
      "We have provided an existing summary up to a certain point: The paper introduces a new network architecture called the Transformer, which is based solely on attention mechanisms and does not use recurrent or convolutional neural networks. The Transformer model achieves superior results in machine translation tasks, is more parallelizable, and requires less training time compared to existing models. The paper also discusses the background and advantages of self-attention and describes the architecture of the encoder and decoder stacks in the Transformer model. The attention mechanism used in the model is called Scaled Dot-Product Attention.\n",
      "We have the opportunity to refine the existing summary (only if needed) with some more context below.\n",
      "------------\n",
      "plicative) attention. Dot-product attention is identical to our algorithm, except for the scaling factor\n",
      "of1√dk. Additive attention computes the compatibility function using a feed-forward network with\n",
      "a single hidden layer. While the two are similar in theoretical complexity, dot-product attention is\n",
      "much faster and more space-efficient in practice, since it can be implemented using highly optimized\n",
      "matrix multiplication code.\n",
      "While for small values of dkthe two mechanisms perform similarly, additive attention outperforms\n",
      "dot product attention without scaling for larger values of dk[3]. We suspect that for large values of\n",
      "dk, the dot products grow large in magnitude, pushing the softmax function into regions where it has\n",
      "extremely small gradients4. To counteract this effect, we scale the dot products by1√dk.\n",
      "3.2.2 Multi-Head Attention\n",
      "Instead of performing a single attention function with dmodel-dimensional keys, values and queries,\n",
      "we found it beneficial to linearly project the queries, keys and values htimes with different, learned\n",
      "linear projections to dk,dkanddvdimensions, respectively. On each of these projected versions of\n",
      "queries, keys and values we then perform the attention function in parallel, yielding dv-dimensional\n",
      "4To illustrate why the dot products get large, assume that the components of qandkare independent random\n",
      "variables with mean 0and variance 1. Then their dot product, q·k=Pdk\n",
      "i=1qiki, has mean 0and variance dk.\n",
      "4output values. These are concatenated and once again projected, resulting in the final values, as\n",
      "depicted in Figure 2.\n",
      "Multi-head attention allows the model to jointly attend to information from different representation\n",
      "subspaces at different positions. With a single attention head, averaging inhibits this.\n",
      "MultiHead( Q, K, V ) = Concat(head 1, ...,head h)WO\n",
      "where head i= Attention( QWQ\n",
      "i, KWK\n",
      "i, V WV\n",
      "i)\n",
      "Where the projections are parameter matrices WQ\n",
      "i∈Rdmodel×dk,WK\n",
      "i∈Rdmodel×dk,WV\n",
      "i∈Rdmodel×dv\n",
      "andWO∈Rhdv×dmodel.\n",
      "In this work we employ h= 8 parallel attention layers, or heads. For each of these we use\n",
      "dk=dv=dmodel/h= 64 . Due to the reduced dimension of each head, the total computational cost\n",
      "is similar to that of single-head attention with full dimensionality.\n",
      "3.2.3 Applications of Attention in our Model\n",
      "The Transformer uses multi-head attention in three different ways:\n",
      "•In \"encoder-decoder attention\" layers, the queries come from the previous decoder layer,\n",
      "and the memory keys and values come from the output of the encoder. This allows every\n",
      "position in the decoder to attend over all positions in the input sequence. This mimics the\n",
      "typical encoder-decoder attention mechanisms in sequence-to-sequence models such as\n",
      "[38, 2, 9].\n",
      "•The encoder contains self-attention layers. In a self-attention layer all of the keys, values\n",
      "and queries come from the same place, in this case, the output of the previous layer in the\n",
      "encoder. Each position in the encoder can attend to all positions in the previous layer of the\n",
      "encoder.\n",
      "•Similarly, self-attention layers in the decoder allow each position in the decoder to attend to\n",
      "all positions in the decoder up to and including that position. We need to prevent leftward\n",
      "information flow in the decoder to preserve the auto-regressive property. We implement this\n",
      "inside of scaled dot-product attention by masking out (setting to −∞) all values in the input\n",
      "of the softmax which correspond to illegal connections. See Figure 2.\n",
      "3.3 Position-wise Feed-Forward Networks\n",
      "In addition to attention sub-layers, each of the layers in our encoder and decoder contains a fully\n",
      "connected feed-forward network, which is applied to each position separately and identically. This\n",
      "consists of two linear transformations with a ReLU activation in between.\n",
      "FFN( x) = max(0 , xW 1+b1)W2+b2 (2)\n",
      "While the linear transformations are the same across different positions, they use different parameters\n",
      "from layer to layer. Another way of describing this is as two convolutions with kernel size 1.\n",
      "The dimensionality of input and output is dmodel = 512 , and the inner-layer has dimensionality\n",
      "dff= 2048 .\n",
      "3.4 Embeddings and Softmax\n",
      "Similarly to other sequence transduction models, we use learned embeddings to convert the input\n",
      "tokens and output tokens to vectors of dimension dmodel. We also use the usual learned linear transfor-\n",
      "mation and softmax function to convert the decoder output to predicted next-token probabilities. In\n",
      "our model, we share the same weight matrix between the two embedding layers and the pre-softmax\n",
      "linear transformation, similar to [ 30]. In the embedding layers, we multiply those weights by√dmodel.\n",
      "5Table 1: Maximum path lengths, per-layer complexity and minimum number of sequential operations\n",
      "for different layer types. nis the sequence length, dis the representation dimension, kis the kernel\n",
      "size of convolutions and rthe size of the neighborhood in restricted self-attention.\n",
      "Layer Type Complexity per Layer Sequential Maximum Path Length\n",
      "Operations\n",
      "Self-Attention O(n2·d) O(1) O(1)\n",
      "Recurrent O(n·d2) O(n) O(n)\n",
      "Convolutional O(k·n·d2) O(1) O(logk(n))\n",
      "Self-Attention (restricted) O(r·n·d) O(1) O(n/r)\n",
      "3.5 Positional Encoding\n",
      "Since our model contains no recurrence and no convolution, in order for the model to make use of the\n",
      "order of the sequence, we must inject some information about the relative or absolute position of the\n",
      "tokens in the sequence. To this end, we add \"positional encodings\" to the input embeddings at the\n",
      "bottoms of the encoder and decoder stacks. The positional encodings have the same dimension dmodel\n",
      "as the embeddings, so that the two can be summed. There are many choices of positional encodings,\n",
      "learned and fixed [9].\n",
      "In this work, we use sine and cosine functions of different frequencies:\n",
      "PE(pos,2i)=sin(pos/100002i/d model)\n",
      "PE(pos,2i+1)=cos(pos/100002i/d model)\n",
      "where posis the position and iis the dimension. That is, each dimension of the positional encoding\n",
      "corresponds to a sinusoid. The wavelengths form a geometric progression from 2πto10000 ·2π. We\n",
      "chose this function because we hypothesized it would allow the model to easily learn to attend by\n",
      "relative positions, since for any fixed offset k,PEpos+kcan be represented as a linear function of\n",
      "PEpos.\n",
      "We also experimented with using learned positional embeddings [ 9] instead, and found that the two\n",
      "versions produced nearly identical results (see Table 3 row (E)). We chose the sinusoidal version\n",
      "because it may allow the model to extrapolate to sequence lengths longer than the ones encountered\n",
      "during training.\n",
      "4 Why Self-Attention\n",
      "In this section we compare various aspects of self-attention layers to the recurrent and convolu-\n",
      "tional layers commonly used for mapping one variable-length sequence of symbol representations\n",
      "(x1, ..., x n)to another sequence of equal length (z1, ..., z n), with xi, zi∈Rd, such as a hidden\n",
      "layer in a typical sequence transduction encoder or decoder. Motivating our use of self-attention we\n",
      "consider three desiderata.\n",
      "One is the total computational complexity per layer. Another is the amount of computation that can\n",
      "be parallelized, as measured by the minimum number of sequential operations required.\n",
      "The third is the path length between long-range dependencies in the network. Learning long-range\n",
      "dependencies is a key challenge in many sequence transduction tasks. One key factor affecting the\n",
      "ability to learn such dependencies is the length of the paths forward and backward signals have to\n",
      "traverse in the network. The shorter these paths between any combination of positions in the input\n",
      "and output sequences, the easier it is to learn long-range dependencies [ 12]. Hence we also compare\n",
      "the maximum path length between any two input and output positions in networks composed of the\n",
      "different layer types.\n",
      "As noted in Table 1, a self-attention layer connects all positions with a constant number of sequentially\n",
      "executed operations, whereas a recurrent layer requires O(n)sequential operations. In terms of\n",
      "computational complexity, self-attention layers are faster than recurrent layers when the sequence\n",
      "6length nis smaller than the representation dimensionality d, which is most often the case with\n",
      "sentence representations used by state-of-the-art models in machine translations, such as word-piece\n",
      "[38] and byte-pair [ 31] representations. To improve computational performance for tasks involving\n",
      "very long sequences, self-attention could be restricted to considering only a neighborhood of size rin\n",
      "the input sequence centered around the respective output position. This would increase the maximum\n",
      "path length to O(n/r). We plan to investigate this approach further in future work.\n",
      "A single convolutional layer with kernel width k < n does not connect all pairs of input and output\n",
      "positions. Doing so requires a stack of O(n/k)convolutional layers in the case of contiguous kernels,\n",
      "orO(logk(n))in the case of dilated convolutions [ 18], increasing the length of the longest paths\n",
      "between any two positions in the network. Convolutional layers are generally more expensive than\n",
      "recurrent layers, by a factor of k. Separable convolutions [ 6], however, decrease the complexity\n",
      "considerably, to O(k·n·d+n·d2). Even with k=n, however, the complexity of a separable\n",
      "convolution is equal to the combination of a self-attention layer and a point-wise feed-forward layer,\n",
      "the approach we take in our model.\n",
      "As side benefit, self-attention could yield more interpretable models. We inspect attention distributions\n",
      "from our models and present and discuss examples in the appendix. Not only do individual attention\n",
      "heads clearly learn to perform different tasks, many appear to exhibit behavior related to the syntactic\n",
      "and semantic structure of the sentences.\n",
      "5 Training\n",
      "This section describes the training regime for our models.\n",
      "5.1 Training Data and Batching\n",
      "We trained on the standard WMT 2014 English-German dataset consisting of about 4.5 million\n",
      "------------\n",
      "Given the new context, refine the original summary.\n",
      "If the context isn't useful, return the original summary.\u001b[0m\n",
      "\n",
      "\u001b[1m> Finished chain.\u001b[0m\n",
      "\n",
      "\n",
      "\u001b[1m> Entering new LLMChain chain...\u001b[0m\n",
      "Prompt after formatting:\n",
      "\u001b[32;1m\u001b[1;3mYour job is to produce a final summary.\n",
      "We have provided an existing summary up to a certain point: The paper introduces the Transformer, a network architecture based solely on attention mechanisms. It achieves superior results in machine translation tasks, is more parallelizable, and requires less training time compared to existing models. The paper also discusses the background and advantages of self-attention and describes the architecture of the encoder and decoder stacks in the Transformer model. The attention mechanism used in the model is called Scaled Dot-Product Attention. Additionally, the paper compares self-attention layers to recurrent and convolutional layers in terms of computational complexity, parallelizability, and the ability to learn long-range dependencies. The training regime for the models is also described.\n",
      "We have the opportunity to refine the existing summary (only if needed) with some more context below.\n",
      "------------\n",
      "sentence pairs. Sentences were encoded using byte-pair encoding [ 3], which has a shared source-\n",
      "target vocabulary of about 37000 tokens. For English-French, we used the significantly larger WMT\n",
      "2014 English-French dataset consisting of 36M sentences and split tokens into a 32000 word-piece\n",
      "vocabulary [ 38]. Sentence pairs were batched together by approximate sequence length. Each training\n",
      "batch contained a set of sentence pairs containing approximately 25000 source tokens and 25000\n",
      "target tokens.\n",
      "5.2 Hardware and Schedule\n",
      "We trained our models on one machine with 8 NVIDIA P100 GPUs. For our base models using\n",
      "the hyperparameters described throughout the paper, each training step took about 0.4 seconds. We\n",
      "trained the base models for a total of 100,000 steps or 12 hours. For our big models,(described on the\n",
      "bottom line of table 3), step time was 1.0 seconds. The big models were trained for 300,000 steps\n",
      "(3.5 days).\n",
      "5.3 Optimizer\n",
      "We used the Adam optimizer [ 20] with β1= 0.9,β2= 0.98andϵ= 10−9. We varied the learning\n",
      "rate over the course of training, according to the formula:\n",
      "lrate =d−0.5\n",
      "model·min(step_num−0.5, step _num·warmup _steps−1.5) (3)\n",
      "This corresponds to increasing the learning rate linearly for the first warmup _steps training steps,\n",
      "and decreasing it thereafter proportionally to the inverse square root of the step number. We used\n",
      "warmup _steps = 4000 .\n",
      "5.4 Regularization\n",
      "We employ three types of regularization during training:\n",
      "7Table 2: The Transformer achieves better BLEU scores than previous state-of-the-art models on the\n",
      "English-to-German and English-to-French newstest2014 tests at a fraction of the training cost.\n",
      "ModelBLEU Training Cost (FLOPs)\n",
      "EN-DE EN-FR EN-DE EN-FR\n",
      "ByteNet [18] 23.75\n",
      "Deep-Att + PosUnk [39] 39.2 1.0·1020\n",
      "GNMT + RL [38] 24.6 39.92 2.3·10191.4·1020\n",
      "ConvS2S [9] 25.16 40.46 9.6·10181.5·1020\n",
      "MoE [32] 26.03 40.56 2.0·10191.2·1020\n",
      "Deep-Att + PosUnk Ensemble [39] 40.4 8.0·1020\n",
      "GNMT + RL Ensemble [38] 26.30 41.16 1.8·10201.1·1021\n",
      "ConvS2S Ensemble [9] 26.36 41.29 7.7·10191.2·1021\n",
      "Transformer (base model) 27.3 38.1 3.3·1018\n",
      "Transformer (big) 28.4 41.8 2.3·1019\n",
      "Residual Dropout We apply dropout [ 33] to the output of each sub-layer, before it is added to the\n",
      "sub-layer input and normalized. In addition, we apply dropout to the sums of the embeddings and the\n",
      "positional encodings in both the encoder and decoder stacks. For the base model, we use a rate of\n",
      "Pdrop= 0.1.\n",
      "Label Smoothing During training, we employed label smoothing of value ϵls= 0.1[36]. This\n",
      "hurts perplexity, as the model learns to be more unsure, but improves accuracy and BLEU score.\n",
      "6 Results\n",
      "6.1 Machine Translation\n",
      "On the WMT 2014 English-to-German translation task, the big transformer model (Transformer (big)\n",
      "in Table 2) outperforms the best previously reported models (including ensembles) by more than 2.0\n",
      "BLEU, establishing a new state-of-the-art BLEU score of 28.4. The configuration of this model is\n",
      "listed in the bottom line of Table 3. Training took 3.5days on 8P100 GPUs. Even our base model\n",
      "surpasses all previously published models and ensembles, at a fraction of the training cost of any of\n",
      "the competitive models.\n",
      "On the WMT 2014 English-to-French translation task, our big model achieves a BLEU score of 41.0,\n",
      "outperforming all of the previously published single models, at less than 1/4the training cost of the\n",
      "previous state-of-the-art model. The Transformer (big) model trained for English-to-French used\n",
      "dropout rate Pdrop= 0.1, instead of 0.3.\n",
      "For the base models, we used a single model obtained by averaging the last 5 checkpoints, which\n",
      "were written at 10-minute intervals. For the big models, we averaged the last 20 checkpoints. We\n",
      "used beam search with a beam size of 4and length penalty α= 0.6[38]. These hyperparameters\n",
      "were chosen after experimentation on the development set. We set the maximum output length during\n",
      "inference to input length + 50, but terminate early when possible [38].\n",
      "Table 2 summarizes our results and compares our translation quality and training costs to other model\n",
      "architectures from the literature. We estimate the number of floating point operations used to train a\n",
      "model by multiplying the training time, the number of GPUs used, and an estimate of the sustained\n",
      "single-precision floating-point capacity of each GPU5.\n",
      "6.2 Model Variations\n",
      "To evaluate the importance of different components of the Transformer, we varied our base model\n",
      "in different ways, measuring the change in performance on English-to-German translation on the\n",
      "5We used values of 2.8, 3.7, 6.0 and 9.5 TFLOPS for K80, K40, M40 and P100, respectively.\n",
      "8Table 3: Variations on the Transformer architecture. Unlisted values are identical to those of the base\n",
      "model. All metrics are on the English-to-German translation development set, newstest2013. Listed\n",
      "perplexities are per-wordpiece, according to our byte-pair encoding, and should not be compared to\n",
      "per-word perplexities.\n",
      "N d model dff h d k dvPdrop ϵlstrain PPL BLEU params\n",
      "steps (dev) (dev) ×106\n",
      "base 6 512 2048 8 64 64 0.1 0.1 100K 4.92 25.8 65\n",
      "(A)1 512 512 5.29 24.9\n",
      "4 128 128 5.00 25.5\n",
      "16 32 32 4.91 25.8\n",
      "32 16 16 5.01 25.4\n",
      "(B)16 5.16 25.1 58\n",
      "32 5.01 25.4 60\n",
      "(C)2 6.11 23.7 36\n",
      "4 5.19 25.3 50\n",
      "8 4.88 25.5 80\n",
      "256 32 32 5.75 24.5 28\n",
      "1024 128 128 4.66 26.0 168\n",
      "1024 5.12 25.4 53\n",
      "4096 4.75 26.2 90\n",
      "(D)0.0 5.77 24.6\n",
      "0.2 4.95 25.5\n",
      "0.0 4.67 25.3\n",
      "0.2 5.47 25.7\n",
      "(E) positional embedding instead of sinusoids 4.92 25.7\n",
      "big 6 1024 4096 16 0.3 300K 4.33 26.4 213\n",
      "development set, newstest2013. We used beam search as described in the previous section, but no\n",
      "checkpoint averaging. We present these results in Table 3.\n",
      "In Table 3 rows (A), we vary the number of attention heads and the attention key and value dimensions,\n",
      "keeping the amount of computation constant, as described in Section 3.2.2. While single-head\n",
      "attention is 0.9 BLEU worse than the best setting, quality also drops off with too many heads.\n",
      "In Table 3 rows (B), we observe that reducing the attention key size dkhurts model quality. This\n",
      "suggests that determining compatibility is not easy and that a more sophisticated compatibility\n",
      "function than dot product may be beneficial. We further observe in rows (C) and (D) that, as expected,\n",
      "bigger models are better, and dropout is very helpful in avoiding over-fitting. In row (E) we replace our\n",
      "sinusoidal positional encoding with learned positional embeddings [ 9], and observe nearly identical\n",
      "results to the base model.\n",
      "6.3 English Constituency Parsing\n",
      "To evaluate if the Transformer can generalize to other tasks we performed experiments on English\n",
      "constituency parsing. This task presents specific challenges: the output is subject to strong structural\n",
      "constraints and is significantly longer than the input. Furthermore, RNN sequence-to-sequence\n",
      "models have not been able to attain state-of-the-art results in small-data regimes [37].\n",
      "We trained a 4-layer transformer with dmodel = 1024 on the Wall Street Journal (WSJ) portion of the\n",
      "Penn Treebank [ 25], about 40K training sentences. We also trained it in a semi-supervised setting,\n",
      "using the larger high-confidence and BerkleyParser corpora from with approximately 17M sentences\n",
      "[37]. We used a vocabulary of 16K tokens for the WSJ only setting and a vocabulary of 32K tokens\n",
      "for the semi-supervised setting.\n",
      "We performed only a small number of experiments to select the dropout, both attention and residual\n",
      "(section 5.4), learning rates and beam size on the Section 22 development set, all other parameters\n",
      "remained unchanged from the English-to-German base translation model. During inference, we\n",
      "9Table 4: The Transformer generalizes well to English constituency parsing (Results are on Section 23\n",
      "of WSJ)\n",
      "Parser Training WSJ 23 F1\n",
      "Vinyals & Kaiser el al. (2014) [37] WSJ only, discriminative 88.3\n",
      "Petrov et al. (2006) [29] WSJ only, discriminative 90.4\n",
      "Zhu et al. (2013) [40] WSJ only, discriminative 90.4\n",
      "Dyer et al. (2016) [8] WSJ only, discriminative 91.7\n",
      "Transformer (4 layers) WSJ only, discriminative 91.3\n",
      "Zhu et al. (2013) [40] semi-supervised 91.3\n",
      "Huang & Harper (2009) [14] semi-supervised 91.3\n",
      "McClosky et al. (2006) [26] semi-supervised 92.1\n",
      "Vinyals & Kaiser el al. (2014) [37] semi-supervised 92.1\n",
      "Transformer (4 layers) semi-supervised 92.7\n",
      "Luong et al. (2015) [23] multi-task 93.0\n",
      "Dyer et al. (2016) [8] generative 93.3\n",
      "increased the maximum output length to input length + 300. We used a beam size of 21andα= 0.3\n",
      "for both WSJ only and the semi-supervised setting.\n",
      "Our results in Table 4 show that despite the lack of task-specific tuning our model performs sur-\n",
      "prisingly well, yielding better results than all previously reported models with the exception of the\n",
      "Recurrent Neural Network Grammar [8].\n",
      "In contrast to RNN sequence-to-sequence models [ 37], the Transformer outperforms the Berkeley-\n",
      "Parser [29] even when training only on the WSJ training set of 40K sentences.\n",
      "7 Conclusion\n",
      "In this work, we presented the Transformer, the first sequence transduction model based entirely on\n",
      "attention, replacing the recurrent layers most commonly used in encoder-decoder architectures with\n",
      "multi-headed self-attention.\n",
      "For translation tasks, the Transformer can be trained significantly faster than architectures based\n",
      "on recurrent or convolutional layers. On both WMT 2014 English-to-German and WMT 2014\n",
      "English-to-French translation tasks, we achieve a new state of the art. In the former task our best\n",
      "model outperforms even all previously reported ensembles.\n",
      "We are excited about the future of attention-based models and plan to apply them to other tasks. We\n",
      "plan to extend the Transformer to problems involving input and output modalities other than text and\n",
      "to investigate local, restricted attention mechanisms to efficiently handle large inputs and outputs\n",
      "such as images, audio and video. Making generation less sequential is another research goals of ours.\n",
      "The code we used to train and evaluate our models is available at https://github.com/\n",
      "tensorflow/tensor2tensor .\n",
      "------------\n",
      "Given the new context, refine the original summary.\n",
      "If the context isn't useful, return the original summary.\u001b[0m\n",
      "\n",
      "\u001b[1m> Finished chain.\u001b[0m\n",
      "\n",
      "\n",
      "\u001b[1m> Entering new LLMChain chain...\u001b[0m\n",
      "Prompt after formatting:\n",
      "\u001b[32;1m\u001b[1;3mYour job is to produce a final summary.\n",
      "We have provided an existing summary up to a certain point: The paper introduces the Transformer, a network architecture based solely on attention mechanisms, which achieves superior results in machine translation tasks. The paper provides more context on the training process, including the use of byte-pair encoding and the hardware and schedule used for training. It also discusses the optimizer and regularization techniques employed. The paper presents results on machine translation tasks, demonstrating that the Transformer outperforms previous state-of-the-art models in terms of BLEU scores while requiring less training cost. The paper also explores variations of the Transformer model and evaluates its performance on English constituency parsing, showing promising results. The authors conclude by expressing excitement about the future applications of attention-based models and their plans to extend the Transformer to other tasks.\n",
      "We have the opportunity to refine the existing summary (only if needed) with some more context below.\n",
      "------------\n",
      "Acknowledgements We are grateful to Nal Kalchbrenner and Stephan Gouws for their fruitful\n",
      "comments, corrections and inspiration.\n",
      "References\n",
      "[1]Jimmy Lei Ba, Jamie Ryan Kiros, and Geoffrey E Hinton. Layer normalization. arXiv preprint\n",
      "arXiv:1607.06450 , 2016.\n",
      "[2]Dzmitry Bahdanau, Kyunghyun Cho, and Yoshua Bengio. Neural machine translation by jointly\n",
      "learning to align and translate. CoRR , abs/1409.0473, 2014.\n",
      "[3]Denny Britz, Anna Goldie, Minh-Thang Luong, and Quoc V . Le. Massive exploration of neural\n",
      "machine translation architectures. CoRR , abs/1703.03906, 2017.\n",
      "[4]Jianpeng Cheng, Li Dong, and Mirella Lapata. Long short-term memory-networks for machine\n",
      "reading. arXiv preprint arXiv:1601.06733 , 2016.\n",
      "10[5]Kyunghyun Cho, Bart van Merrienboer, Caglar Gulcehre, Fethi Bougares, Holger Schwenk,\n",
      "and Yoshua Bengio. Learning phrase representations using rnn encoder-decoder for statistical\n",
      "machine translation. CoRR , abs/1406.1078, 2014.\n",
      "[6]Francois Chollet. Xception: Deep learning with depthwise separable convolutions. arXiv\n",
      "preprint arXiv:1610.02357 , 2016.\n",
      "[7]Junyoung Chung, Çaglar Gülçehre, Kyunghyun Cho, and Yoshua Bengio. Empirical evaluation\n",
      "of gated recurrent neural networks on sequence modeling. CoRR , abs/1412.3555, 2014.\n",
      "[8]Chris Dyer, Adhiguna Kuncoro, Miguel Ballesteros, and Noah A. Smith. Recurrent neural\n",
      "network grammars. In Proc. of NAACL , 2016.\n",
      "[9]Jonas Gehring, Michael Auli, David Grangier, Denis Yarats, and Yann N. Dauphin. Convolu-\n",
      "tional sequence to sequence learning. arXiv preprint arXiv:1705.03122v2 , 2017.\n",
      "[10] Alex Graves. Generating sequences with recurrent neural networks. arXiv preprint\n",
      "arXiv:1308.0850 , 2013.\n",
      "[11] Kaiming He, Xiangyu Zhang, Shaoqing Ren, and Jian Sun. Deep residual learning for im-\n",
      "age recognition. In Proceedings of the IEEE Conference on Computer Vision and Pattern\n",
      "Recognition , pages 770–778, 2016.\n",
      "[12] Sepp Hochreiter, Yoshua Bengio, Paolo Frasconi, and Jürgen Schmidhuber. Gradient flow in\n",
      "recurrent nets: the difficulty of learning long-term dependencies, 2001.\n",
      "[13] Sepp Hochreiter and Jürgen Schmidhuber. Long short-term memory. Neural computation ,\n",
      "9(8):1735–1780, 1997.\n",
      "[14] Zhongqiang Huang and Mary Harper. Self-training PCFG grammars with latent annotations\n",
      "across languages. In Proceedings of the 2009 Conference on Empirical Methods in Natural\n",
      "Language Processing , pages 832–841. ACL, August 2009.\n",
      "[15] Rafal Jozefowicz, Oriol Vinyals, Mike Schuster, Noam Shazeer, and Yonghui Wu. Exploring\n",
      "the limits of language modeling. arXiv preprint arXiv:1602.02410 , 2016.\n",
      "[16] Łukasz Kaiser and Samy Bengio. Can active memory replace attention? In Advances in Neural\n",
      "Information Processing Systems, (NIPS) , 2016.\n",
      "[17] Łukasz Kaiser and Ilya Sutskever. Neural GPUs learn algorithms. In International Conference\n",
      "on Learning Representations (ICLR) , 2016.\n",
      "[18] Nal Kalchbrenner, Lasse Espeholt, Karen Simonyan, Aaron van den Oord, Alex Graves, and Ko-\n",
      "ray Kavukcuoglu. Neural machine translation in linear time. arXiv preprint arXiv:1610.10099v2 ,\n",
      "2017.\n",
      "[19] Yoon Kim, Carl Denton, Luong Hoang, and Alexander M. Rush. Structured attention networks.\n",
      "InInternational Conference on Learning Representations , 2017.\n",
      "[20] Diederik Kingma and Jimmy Ba. Adam: A method for stochastic optimization. In ICLR , 2015.\n",
      "[21] Oleksii Kuchaiev and Boris Ginsburg. Factorization tricks for LSTM networks. arXiv preprint\n",
      "arXiv:1703.10722 , 2017.\n",
      "[22] Zhouhan Lin, Minwei Feng, Cicero Nogueira dos Santos, Mo Yu, Bing Xiang, Bowen\n",
      "Zhou, and Yoshua Bengio. A structured self-attentive sentence embedding. arXiv preprint\n",
      "arXiv:1703.03130 , 2017.\n",
      "[23] Minh-Thang Luong, Quoc V . Le, Ilya Sutskever, Oriol Vinyals, and Lukasz Kaiser. Multi-task\n",
      "sequence to sequence learning. arXiv preprint arXiv:1511.06114 , 2015.\n",
      "[24] Minh-Thang Luong, Hieu Pham, and Christopher D Manning. Effective approaches to attention-\n",
      "based neural machine translation. arXiv preprint arXiv:1508.04025 , 2015.\n",
      "11[25] Mitchell P Marcus, Mary Ann Marcinkiewicz, and Beatrice Santorini. Building a large annotated\n",
      "corpus of english: The penn treebank. Computational linguistics , 19(2):313–330, 1993.\n",
      "[26] David McClosky, Eugene Charniak, and Mark Johnson. Effective self-training for parsing. In\n",
      "Proceedings of the Human Language Technology Conference of the NAACL, Main Conference ,\n",
      "pages 152–159. ACL, June 2006.\n",
      "[27] Ankur Parikh, Oscar Täckström, Dipanjan Das, and Jakob Uszkoreit. A decomposable attention\n",
      "model. In Empirical Methods in Natural Language Processing , 2016.\n",
      "[28] Romain Paulus, Caiming Xiong, and Richard Socher. A deep reinforced model for abstractive\n",
      "summarization. arXiv preprint arXiv:1705.04304 , 2017.\n",
      "[29] Slav Petrov, Leon Barrett, Romain Thibaux, and Dan Klein. Learning accurate, compact,\n",
      "and interpretable tree annotation. In Proceedings of the 21st International Conference on\n",
      "Computational Linguistics and 44th Annual Meeting of the ACL , pages 433–440. ACL, July\n",
      "2006.\n",
      "[30] Ofir Press and Lior Wolf. Using the output embedding to improve language models. arXiv\n",
      "preprint arXiv:1608.05859 , 2016.\n",
      "[31] Rico Sennrich, Barry Haddow, and Alexandra Birch. Neural machine translation of rare words\n",
      "with subword units. arXiv preprint arXiv:1508.07909 , 2015.\n",
      "[32] Noam Shazeer, Azalia Mirhoseini, Krzysztof Maziarz, Andy Davis, Quoc Le, Geoffrey Hinton,\n",
      "and Jeff Dean. Outrageously large neural networks: The sparsely-gated mixture-of-experts\n",
      "layer. arXiv preprint arXiv:1701.06538 , 2017.\n",
      "[33] Nitish Srivastava, Geoffrey E Hinton, Alex Krizhevsky, Ilya Sutskever, and Ruslan Salakhutdi-\n",
      "nov. Dropout: a simple way to prevent neural networks from overfitting. Journal of Machine\n",
      "Learning Research , 15(1):1929–1958, 2014.\n",
      "[34] Sainbayar Sukhbaatar, Arthur Szlam, Jason Weston, and Rob Fergus. End-to-end memory\n",
      "networks. In C. Cortes, N. D. Lawrence, D. D. Lee, M. Sugiyama, and R. Garnett, editors,\n",
      "Advances in Neural Information Processing Systems 28 , pages 2440–2448. Curran Associates,\n",
      "Inc., 2015.\n",
      "[35] Ilya Sutskever, Oriol Vinyals, and Quoc VV Le. Sequence to sequence learning with neural\n",
      "networks. In Advances in Neural Information Processing Systems , pages 3104–3112, 2014.\n",
      "[36] Christian Szegedy, Vincent Vanhoucke, Sergey Ioffe, Jonathon Shlens, and Zbigniew Wojna.\n",
      "Rethinking the inception architecture for computer vision. CoRR , abs/1512.00567, 2015.\n",
      "[37] Vinyals & Kaiser, Koo, Petrov, Sutskever, and Hinton. Grammar as a foreign language. In\n",
      "Advances in Neural Information Processing Systems , 2015.\n",
      "[38] Yonghui Wu, Mike Schuster, Zhifeng Chen, Quoc V Le, Mohammad Norouzi, Wolfgang\n",
      "Macherey, Maxim Krikun, Yuan Cao, Qin Gao, Klaus Macherey, et al. Google’s neural machine\n",
      "translation system: Bridging the gap between human and machine translation. arXiv preprint\n",
      "arXiv:1609.08144 , 2016.\n",
      "[39] Jie Zhou, Ying Cao, Xuguang Wang, Peng Li, and Wei Xu. Deep recurrent models with\n",
      "fast-forward connections for neural machine translation. CoRR , abs/1606.04199, 2016.\n",
      "[40] Muhua Zhu, Yue Zhang, Wenliang Chen, Min Zhang, and Jingbo Zhu. Fast and accurate\n",
      "shift-reduce constituent parsing. In Proceedings of the 51st Annual Meeting of the ACL (Volume\n",
      "1: Long Papers) , pages 434–443. ACL, August 2013.\n",
      "12Attention Visualizations\n",
      "Input-Input Layer5\n",
      "It\n",
      "is\n",
      "in\n",
      "this\n",
      "spirit\n",
      "that\n",
      "a\n",
      "majority\n",
      "of\n",
      "American\n",
      "governments\n",
      "have\n",
      "passed\n",
      "new\n",
      "laws\n",
      "since\n",
      "2009\n",
      "making\n",
      "the\n",
      "registration\n",
      "or\n",
      "voting\n",
      "process\n",
      "more\n",
      "difficult\n",
      ".\n",
      "<EOS>\n",
      "<pad>\n",
      "<pad>\n",
      "<pad>\n",
      "<pad>\n",
      "<pad>\n",
      "<pad>\n",
      "It\n",
      "is\n",
      "in\n",
      "this\n",
      "spirit\n",
      "that\n",
      "a\n",
      "majority\n",
      "of\n",
      "American\n",
      "governments\n",
      "have\n",
      "passed\n",
      "new\n",
      "laws\n",
      "since\n",
      "2009\n",
      "making\n",
      "the\n",
      "registration\n",
      "or\n",
      "voting\n",
      "process\n",
      "more\n",
      "difficult\n",
      ".\n",
      "<EOS>\n",
      "<pad>\n",
      "<pad>\n",
      "<pad>\n",
      "<pad>\n",
      "<pad>\n",
      "<pad>\n",
      "Figure 3: An example of the attention mechanism following long-distance dependencies in the\n",
      "encoder self-attention in layer 5 of 6. Many of the attention heads attend to a distant dependency of\n",
      "the verb ‘making’, completing the phrase ‘making...more difficult’. Attentions here shown only for\n",
      "the word ‘making’. Different colors represent different heads. Best viewed in color.\n",
      "13Input-Input Layer5\n",
      "The\n",
      "Law\n",
      "will\n",
      "never\n",
      "be\n",
      "perfect\n",
      ",\n",
      "but\n",
      "its\n",
      "application\n",
      "should\n",
      "be\n",
      "just\n",
      "-\n",
      "this\n",
      "is\n",
      "what\n",
      "we\n",
      "are\n",
      "missing\n",
      ",\n",
      "in\n",
      "my\n",
      "opinion\n",
      ".\n",
      "<EOS>\n",
      "<pad>\n",
      "The\n",
      "Law\n",
      "will\n",
      "never\n",
      "be\n",
      "perfect\n",
      ",\n",
      "but\n",
      "its\n",
      "application\n",
      "should\n",
      "be\n",
      "just\n",
      "-\n",
      "this\n",
      "is\n",
      "what\n",
      "we\n",
      "are\n",
      "missing\n",
      ",\n",
      "in\n",
      "my\n",
      "opinion\n",
      ".\n",
      "<EOS>\n",
      "<pad>\n",
      "Input-Input Layer5\n",
      "The\n",
      "Law\n",
      "will\n",
      "never\n",
      "be\n",
      "perfect\n",
      ",\n",
      "but\n",
      "its\n",
      "application\n",
      "should\n",
      "be\n",
      "just\n",
      "-\n",
      "this\n",
      "is\n",
      "what\n",
      "we\n",
      "are\n",
      "missing\n",
      ",\n",
      "in\n",
      "my\n",
      "opinion\n",
      ".\n",
      "<EOS>\n",
      "<pad>\n",
      "The\n",
      "Law\n",
      "will\n",
      "never\n",
      "be\n",
      "perfect\n",
      ",\n",
      "but\n",
      "its\n",
      "application\n",
      "should\n",
      "be\n",
      "just\n",
      "-\n",
      "this\n",
      "is\n",
      "what\n",
      "we\n",
      "are\n",
      "missing\n",
      ",\n",
      "in\n",
      "my\n",
      "opinion\n",
      ".\n",
      "<EOS>\n",
      "<pad>Figure 4: Two attention heads, also in layer 5 of 6, apparently involved in anaphora resolution. Top:\n",
      "Full attentions for head 5. Bottom: Isolated attentions from just the word ‘its’ for attention heads 5\n",
      "and 6. Note that the attentions are very sharp for this word.\n",
      "14Input-Input Layer5\n",
      "The\n",
      "Law\n",
      "will\n",
      "never\n",
      "be\n",
      "perfect\n",
      ",\n",
      "but\n",
      "its\n",
      "application\n",
      "should\n",
      "be\n",
      "just\n",
      "-\n",
      "this\n",
      "is\n",
      "what\n",
      "we\n",
      "are\n",
      "missing\n",
      ",\n",
      "in\n",
      "my\n",
      "opinion\n",
      ".\n",
      "<EOS>\n",
      "<pad>\n",
      "The\n",
      "Law\n",
      "will\n",
      "never\n",
      "be\n",
      "perfect\n",
      ",\n",
      "but\n",
      "its\n",
      "application\n",
      "should\n",
      "be\n",
      "just\n",
      "-\n",
      "this\n",
      "is\n",
      "what\n",
      "we\n",
      "are\n",
      "missing\n",
      ",\n",
      "in\n",
      "my\n",
      "opinion\n",
      ".\n",
      "<EOS>\n",
      "<pad>\n",
      "Input-Input Layer5\n",
      "The\n",
      "Law\n",
      "will\n",
      "never\n",
      "be\n",
      "perfect\n",
      ",\n",
      "but\n",
      "its\n",
      "application\n",
      "should\n",
      "be\n",
      "just\n",
      "-\n",
      "this\n",
      "is\n",
      "what\n",
      "we\n",
      "are\n",
      "missing\n",
      ",\n",
      "in\n",
      "my\n",
      "opinion\n",
      ".\n",
      "<EOS>\n",
      "<pad>\n",
      "The\n",
      "Law\n",
      "will\n",
      "never\n",
      "be\n",
      "perfect\n",
      ",\n",
      "but\n",
      "its\n",
      "application\n",
      "should\n",
      "be\n",
      "just\n",
      "-\n",
      "this\n",
      "is\n",
      "what\n",
      "we\n",
      "are\n",
      "missing\n",
      ",\n",
      "in\n",
      "my\n",
      "opinion\n",
      ".\n",
      "<EOS>\n",
      "<pad>Figure 5: Many of the attention heads exhibit behaviour that seems related to the structure of the\n",
      "sentence. We give two such examples above, from two different heads from the encoder self-attention\n",
      "at layer 5 of 6. The heads clearly learned to perform different tasks.\n",
      "15\n",
      "------------\n",
      "Given the new context, refine the original summary.\n",
      "If the context isn't useful, return the original summary.\u001b[0m\n",
      "\n",
      "\u001b[1m> Finished chain.\u001b[0m\n",
      "\n",
      "\u001b[1m> Finished chain.\u001b[0m\n"
     ]
    }
   ],
   "source": [
    "chain = load_summarize_chain(\n",
    "    llm=llm,\n",
    "    chain_type='refine',\n",
    "    verbose=True\n",
    ")\n",
    "output_summary = chain.run(chunks)"
   ]
  },
  {
   "cell_type": "code",
   "execution_count": 49,
   "metadata": {},
   "outputs": [
    {
     "data": {
      "text/plain": [
       "'The paper introduces the Transformer, a network architecture based solely on attention mechanisms, which achieves superior results in machine translation tasks. The paper provides more context on the training process, including the use of byte-pair encoding and the hardware and schedule used for training. It also discusses the optimizer and regularization techniques employed. The paper presents results on machine translation tasks, demonstrating that the Transformer outperforms previous state-of-the-art models in terms of BLEU scores while requiring less training cost. The paper also explores variations of the Transformer model and evaluates its performance on English constituency parsing, showing promising results. The authors conclude by expressing excitement about the future applications of attention-based models and their plans to extend the Transformer to other tasks. The paper also includes acknowledgements and references to related work.'"
      ]
     },
     "execution_count": 49,
     "metadata": {},
     "output_type": "execute_result"
    }
   ],
   "source": [
    "output_summary"
   ]
  }
 ],
 "metadata": {
  "kernelspec": {
   "display_name": "Python 3",
   "language": "python",
   "name": "python3"
  },
  "language_info": {
   "codemirror_mode": {
    "name": "ipython",
    "version": 3
   },
   "file_extension": ".py",
   "mimetype": "text/x-python",
   "name": "python",
   "nbconvert_exporter": "python",
   "pygments_lexer": "ipython3",
   "version": "3.9.18"
  }
 },
 "nbformat": 4,
 "nbformat_minor": 2
}
